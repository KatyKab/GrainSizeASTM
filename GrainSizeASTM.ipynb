{
 "cells": [
  {
   "cell_type": "markdown",
   "id": "a8475060-cbe2-49f4-ab57-829fca64a2e9",
   "metadata": {},
   "source": [
    "## ASTM Grain size detemination for metallic materials"
   ]
  },
  {
   "cell_type": "markdown",
   "id": "f6bbd480-244d-4ad4-abe6-bde29cbc8653",
   "metadata": {},
   "source": [
    "#### Intro\n",
    "##### Based on ASTM Standard Test Methods for Determining Average Grain Size1\n",
    "The size and location of grains in a microstructure are\n",
    "normally completely random. No nominally random process of\n",
    "positioning a test pattern can improve this randomness, but\n",
    "random processes can yield poor representation by concentrating\n",
    "measurements in part of a specimen. Representative\n",
    "implies that all parts of the specimen contribute to the result,\n",
    "not, as sometimes has been presumed, that fields of average\n",
    "grain size are selected."
   ]
  },
  {
   "cell_type": "code",
   "execution_count": 12,
   "id": "bce9a86e-1a5a-436c-a33a-76c52def7749",
   "metadata": {},
   "outputs": [],
   "source": [
    "import matplotlib as plt\n",
    "import numpy as np\n",
    "import pandas as pd\n",
    "import math"
   ]
  },
  {
   "cell_type": "code",
   "execution_count": 49,
   "id": "d7cd7292-82d8-4bf0-875b-3807dfc1ff1f",
   "metadata": {},
   "outputs": [
    {
     "name": "stdout",
     "output_type": "stream",
     "text": [
      "Introduce el número de granos aparente (que contaste de la fotomicrografía, te recomiendo usar ImageJ):\n"
     ]
    },
    {
     "name": "stdin",
     "output_type": "stream",
     "text": [
      " 154\n"
     ]
    },
    {
     "name": "stdout",
     "output_type": "stream",
     "text": [
      "Introduce el número de granos pegados a la pared de la fotomicrografía:\n"
     ]
    },
    {
     "name": "stdin",
     "output_type": "stream",
     "text": [
      " 40\n"
     ]
    },
    {
     "name": "stdout",
     "output_type": "stream",
     "text": [
      "Introduce la magnificación del lente objetivo del microscopio que usaste:\n"
     ]
    },
    {
     "name": "stdin",
     "output_type": "stream",
     "text": [
      " 100\n"
     ]
    },
    {
     "name": "stdout",
     "output_type": "stream",
     "text": [
      "El tamaño de grano ASTM es:\n",
      "8.266786540694902\n"
     ]
    }
   ],
   "source": [
    "print(\"Introduce el número de granos aparente (que contaste de la fotomicrografía, te recomiendo usar ImageJ):\")\n",
    "N=input()\n",
    "print(\"Introduce el número de granos pegados a la pared de la fotomicrografía:\")\n",
    "N2=input()\n",
    "print(\"Introduce la magnificación del lente objetivo del microscopio que usaste:\")\n",
    "M=input()\n",
    "converted_N = int(N)\n",
    "converted_N2 = int(N2)\n",
    "converted_M = int(M)\n",
    "na2=np.log(2)\n",
    "na1=np.log(converted_N)\n",
    "nA=((na1)/(na2))+1\n",
    "q1=converted_M/100\n",
    "q2=np.log2(q1)\n",
    "Q=2*q2\n",
    "n=nA+Q\n",
    "print(\"El tamaño de grano ASTM es:\")\n",
    "print(n)"
   ]
  },
  {
   "cell_type": "code",
   "execution_count": null,
   "id": "97d573d7-11f6-43f1-a41d-3c435852e8ec",
   "metadata": {},
   "outputs": [],
   "source": []
  }
 ],
 "metadata": {
  "kernelspec": {
   "display_name": "Python 3 (ipykernel)",
   "language": "python",
   "name": "python3"
  },
  "language_info": {
   "codemirror_mode": {
    "name": "ipython",
    "version": 3
   },
   "file_extension": ".py",
   "mimetype": "text/x-python",
   "name": "python",
   "nbconvert_exporter": "python",
   "pygments_lexer": "ipython3",
   "version": "3.10.7"
  }
 },
 "nbformat": 4,
 "nbformat_minor": 5
}
